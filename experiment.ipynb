{
 "cells": [
  {
   "cell_type": "code",
   "execution_count": 4,
   "metadata": {},
   "outputs": [],
   "source": [
    "from typing import List"
   ]
  },
  {
   "cell_type": "code",
   "execution_count": 20,
   "metadata": {},
   "outputs": [
    {
     "data": {
      "text/plain": [
       "[['I', 'am', 'ahmed'], ['Hi'], ['adf', 'Xsd', 'Yss', 'zzzs']]"
      ]
     },
     "execution_count": 20,
     "metadata": {},
     "output_type": "execute_result"
    }
   ],
   "source": [
    "sents = [\n",
    "    [\"I\", \"am\", \"ahmed\"],\n",
    "    [\"Hi\"],\n",
    "    [\"adf\",\"Xsd\",\"Yss\",\"zzzs\"]\n",
    "]\n",
    "sents"
   ]
  },
  {
   "cell_type": "code",
   "execution_count": 21,
   "metadata": {},
   "outputs": [],
   "source": [
    "def pad_sents(sents: List[str], pad_token:str):\n",
    "    \"\"\" Pad list of sentences according to the longest sentence in the batch.\n",
    "        The paddings should be at the end of each sentence.\n",
    "    @param sents (list[list[str]]): list of sentences, where each sentence\n",
    "                                    is represented as a list of words\n",
    "    @param pad_token (str): padding token\n",
    "    @returns sents_padded (list[list[str]]): list of sentences where sentences shorter\n",
    "        than the max length sentence are padded out with the pad_token, such that\n",
    "        each sentences in the batch now has equal length.\n",
    "    \"\"\"\n",
    "    sents_padded = []\n",
    "\n",
    "    ### YOUR CODE HERE (~6 Lines)\n",
    "    max_len = max([len(sent) for sent in sents])\n",
    "    for sentence in sents:\n",
    "        new_sentence = sentence.copy()\n",
    "        len_diff = max_len - len(sentence)\n",
    "        new_sentence.extend([pad_token]*len_diff)\n",
    "        sents_padded.append(new_sentence)\n",
    "    ### END YOUR CODE\n",
    "\n",
    "    return sents_padded"
   ]
  },
  {
   "cell_type": "code",
   "execution_count": 22,
   "metadata": {},
   "outputs": [
    {
     "data": {
      "text/plain": [
       "[['I', 'am', 'ahmed', '<pad>'],\n",
       " ['Hi', '<pad>', '<pad>', '<pad>'],\n",
       " ['adf', 'Xsd', 'Yss', 'zzzs']]"
      ]
     },
     "execution_count": 22,
     "metadata": {},
     "output_type": "execute_result"
    }
   ],
   "source": [
    "pad_sents(sents,\"<pad>\")"
   ]
  },
  {
   "cell_type": "code",
   "execution_count": 23,
   "metadata": {},
   "outputs": [],
   "source": [
    "import torch"
   ]
  },
  {
   "cell_type": "code",
   "execution_count": 53,
   "metadata": {},
   "outputs": [],
   "source": [
    "x = torch.randn(2, 3, 5)"
   ]
  },
  {
   "cell_type": "code",
   "execution_count": 54,
   "metadata": {},
   "outputs": [
    {
     "data": {
      "text/plain": [
       "torch.Size([2, 3, 5])"
      ]
     },
     "execution_count": 54,
     "metadata": {},
     "output_type": "execute_result"
    }
   ],
   "source": [
    "x.size()"
   ]
  },
  {
   "cell_type": "code",
   "execution_count": 55,
   "metadata": {},
   "outputs": [
    {
     "data": {
      "text/plain": [
       "torch.Size([3, 5, 2])"
      ]
     },
     "execution_count": 55,
     "metadata": {},
     "output_type": "execute_result"
    }
   ],
   "source": [
    "x = torch.permute(x, (1, 2, 0))\n",
    "x.size()"
   ]
  },
  {
   "cell_type": "code",
   "execution_count": 56,
   "metadata": {},
   "outputs": [
    {
     "data": {
      "text/plain": [
       "torch.Size([2, 3, 5])"
      ]
     },
     "execution_count": 56,
     "metadata": {},
     "output_type": "execute_result"
    }
   ],
   "source": [
    "x = torch.permute(x, (2, 0, 1))\n",
    "x.size()"
   ]
  },
  {
   "cell_type": "code",
   "execution_count": 58,
   "metadata": {},
   "outputs": [],
   "source": [
    "y = torch.randn(2, 3, 5)"
   ]
  },
  {
   "cell_type": "code",
   "execution_count": 59,
   "metadata": {},
   "outputs": [
    {
     "data": {
      "text/plain": [
       "torch.Size([3, 5])"
      ]
     },
     "execution_count": 59,
     "metadata": {},
     "output_type": "execute_result"
    }
   ],
   "source": [
    "y[0].size()"
   ]
  },
  {
   "cell_type": "code",
   "execution_count": 64,
   "metadata": {},
   "outputs": [
    {
     "data": {
      "text/plain": [
       "tensor([[[-0.3509, -1.0029, -1.8906, -0.7892, -0.9271],\n",
       "         [ 0.9371, -0.0167,  0.5179,  0.2678,  0.0057],\n",
       "         [ 0.5242, -1.1796, -0.3857,  0.6410,  0.8645]],\n",
       "\n",
       "        [[ 0.7194, -0.3847,  0.2632,  0.5064,  0.7198],\n",
       "         [-0.7187,  1.0472,  1.6177, -2.3969,  1.2368],\n",
       "         [ 0.8809,  1.8335, -1.0884,  1.1548,  0.5726]]])"
      ]
     },
     "execution_count": 64,
     "metadata": {},
     "output_type": "execute_result"
    }
   ],
   "source": [
    "y"
   ]
  },
  {
   "cell_type": "code",
   "execution_count": 63,
   "metadata": {},
   "outputs": [
    {
     "data": {
      "text/plain": [
       "tensor([[-0.3509, -1.0029, -1.8906, -0.7892, -0.9271,  0.7194, -0.3847,  0.2632,\n",
       "          0.5064,  0.7198],\n",
       "        [ 0.9371, -0.0167,  0.5179,  0.2678,  0.0057, -0.7187,  1.0472,  1.6177,\n",
       "         -2.3969,  1.2368],\n",
       "        [ 0.5242, -1.1796, -0.3857,  0.6410,  0.8645,  0.8809,  1.8335, -1.0884,\n",
       "          1.1548,  0.5726]])"
      ]
     },
     "execution_count": 63,
     "metadata": {},
     "output_type": "execute_result"
    }
   ],
   "source": [
    "torch.cat((y[0],y[1]),1)"
   ]
  },
  {
   "cell_type": "code",
   "execution_count": 65,
   "metadata": {},
   "outputs": [],
   "source": [
    "z = torch.randn(5, 3, 4) # (tgt_len, b, e)"
   ]
  },
  {
   "cell_type": "code",
   "execution_count": 72,
   "metadata": {},
   "outputs": [
    {
     "data": {
      "text/plain": [
       "tensor([[[-1.3341, -0.3138, -0.5057,  0.6869],\n",
       "         [-0.8903,  0.5057, -0.5412,  1.5795],\n",
       "         [-0.0915, -0.6573,  0.7392,  0.3845]],\n",
       "\n",
       "        [[ 1.0887, -0.4675, -0.5094,  0.4930],\n",
       "         [ 1.4384, -0.2551, -0.4001,  0.0847],\n",
       "         [ 1.8650,  0.9689, -1.9432,  0.4301]],\n",
       "\n",
       "        [[ 0.9754, -0.8197, -0.8971, -2.9545],\n",
       "         [-0.5925, -0.0174,  0.7758, -0.7600],\n",
       "         [ 0.5406, -0.9301,  0.2892, -0.6570]],\n",
       "\n",
       "        [[ 0.2858,  0.8019, -0.0269,  2.2111],\n",
       "         [ 0.2777,  0.5108, -0.3202,  0.3370],\n",
       "         [ 1.9752,  0.3999,  0.0913, -1.7724]],\n",
       "\n",
       "        [[-0.2004, -1.0904, -0.3963,  0.4045],\n",
       "         [-1.6428, -0.6829, -1.0945,  1.4011],\n",
       "         [ 1.3094, -0.6929,  0.5677,  1.1279]]])"
      ]
     },
     "execution_count": 72,
     "metadata": {},
     "output_type": "execute_result"
    }
   ],
   "source": [
    "z"
   ]
  },
  {
   "cell_type": "code",
   "execution_count": 80,
   "metadata": {},
   "outputs": [
    {
     "data": {
      "text/plain": [
       "tensor([[-1.3341, -0.3138, -0.5057,  0.6869],\n",
       "        [-0.8903,  0.5057, -0.5412,  1.5795],\n",
       "        [-0.0915, -0.6573,  0.7392,  0.3845]])"
      ]
     },
     "execution_count": 80,
     "metadata": {},
     "output_type": "execute_result"
    }
   ],
   "source": [
    "torch.split(z,1)[0].squeeze(0)"
   ]
  },
  {
   "cell_type": "code",
   "execution_count": 81,
   "metadata": {},
   "outputs": [],
   "source": [
    "a = torch.randn((5,3))\n",
    "b = torch.randn((5,10))"
   ]
  },
  {
   "cell_type": "code",
   "execution_count": 82,
   "metadata": {},
   "outputs": [],
   "source": [
    "c = torch.concat((a,b),dim=1)"
   ]
  },
  {
   "cell_type": "code",
   "execution_count": 84,
   "metadata": {},
   "outputs": [
    {
     "data": {
      "text/plain": [
       "torch.Size([5, 13])"
      ]
     },
     "execution_count": 84,
     "metadata": {},
     "output_type": "execute_result"
    }
   ],
   "source": [
    "c.size()"
   ]
  },
  {
   "cell_type": "code",
   "execution_count": 85,
   "metadata": {},
   "outputs": [
    {
     "data": {
      "text/plain": [
       "tensor([[ 1.2844,  2.1857, -0.3052],\n",
       "        [-1.2620,  2.4478,  0.6717],\n",
       "        [-2.2357, -0.6081, -1.8140],\n",
       "        [ 2.9591, -1.0048, -0.4789],\n",
       "        [ 1.5579, -0.1271,  0.2441]])"
      ]
     },
     "execution_count": 85,
     "metadata": {},
     "output_type": "execute_result"
    }
   ],
   "source": [
    "a"
   ]
  },
  {
   "cell_type": "code",
   "execution_count": 86,
   "metadata": {},
   "outputs": [
    {
     "data": {
      "text/plain": [
       "tensor([[ 1.4943,  2.6412, -0.0402,  0.3177,  0.2232, -1.2134, -0.6537,  0.6222,\n",
       "          0.3801, -1.7011],\n",
       "        [ 0.6830,  0.3107, -0.2739,  0.1173, -0.6853,  1.1872,  0.4568,  1.9872,\n",
       "          1.2700,  0.3948],\n",
       "        [-1.1232, -0.1174,  0.4050, -2.0123,  3.4327,  0.3601,  0.9009,  0.3474,\n",
       "         -0.2817, -0.1726],\n",
       "        [ 0.4146,  0.4845,  0.5939, -0.1040,  0.2251,  0.6211, -1.2236,  0.0369,\n",
       "          0.1952, -0.1406],\n",
       "        [ 1.0844, -0.4709, -0.4734, -0.1260,  0.3122,  0.5078, -1.3600, -0.0278,\n",
       "          0.3842,  1.4284]])"
      ]
     },
     "execution_count": 86,
     "metadata": {},
     "output_type": "execute_result"
    }
   ],
   "source": [
    "b"
   ]
  },
  {
   "cell_type": "code",
   "execution_count": 88,
   "metadata": {},
   "outputs": [
    {
     "data": {
      "text/plain": [
       "tensor([[ 1.2844,  2.1857, -0.3052,  1.4943,  2.6412, -0.0402,  0.3177,  0.2232,\n",
       "         -1.2134, -0.6537,  0.6222,  0.3801, -1.7011],\n",
       "        [-1.2620,  2.4478,  0.6717,  0.6830,  0.3107, -0.2739,  0.1173, -0.6853,\n",
       "          1.1872,  0.4568,  1.9872,  1.2700,  0.3948],\n",
       "        [-2.2357, -0.6081, -1.8140, -1.1232, -0.1174,  0.4050, -2.0123,  3.4327,\n",
       "          0.3601,  0.9009,  0.3474, -0.2817, -0.1726],\n",
       "        [ 2.9591, -1.0048, -0.4789,  0.4146,  0.4845,  0.5939, -0.1040,  0.2251,\n",
       "          0.6211, -1.2236,  0.0369,  0.1952, -0.1406],\n",
       "        [ 1.5579, -0.1271,  0.2441,  1.0844, -0.4709, -0.4734, -0.1260,  0.3122,\n",
       "          0.5078, -1.3600, -0.0278,  0.3842,  1.4284]])"
      ]
     },
     "execution_count": 88,
     "metadata": {},
     "output_type": "execute_result"
    }
   ],
   "source": [
    "c"
   ]
  }
 ],
 "metadata": {
  "kernelspec": {
   "display_name": "Python 3",
   "language": "python",
   "name": "python3"
  },
  "language_info": {
   "codemirror_mode": {
    "name": "ipython",
    "version": 3
   },
   "file_extension": ".py",
   "mimetype": "text/x-python",
   "name": "python",
   "nbconvert_exporter": "python",
   "pygments_lexer": "ipython3",
   "version": "3.12.6"
  }
 },
 "nbformat": 4,
 "nbformat_minor": 2
}
